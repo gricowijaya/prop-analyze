{
 "cells": [
  {
   "cell_type": "code",
   "execution_count": null,
   "id": "cb547d13-bbe0-4ab0-876f-029ae6eab0d8",
   "metadata": {
    "tags": []
   },
   "outputs": [],
   "source": [
    "import pandas as pd\n",
    "from pandas import json_normalize\n",
    "properties = pd.read_csv(\"sample.csv\")"
   ]
  },
  {
   "cell_type": "code",
   "execution_count": null,
   "id": "efd598b8-0bbb-43b2-a120-70004dda6d0c",
   "metadata": {},
   "outputs": [
    {
     "name": "stdout",
     "output_type": "stream",
     "text": [
      "id                  0.0\n",
      "title               0.0\n",
      "description         0.0\n",
      "price               0.0\n",
      "price_display       0.0\n",
      "locations           1.0\n",
      "property_details    0.0\n",
      "image               0.0\n",
      "contact             1.0\n",
      "maps                0.0\n",
      "status              0.0\n",
      "published_at        0.0\n",
      "created_by          1.0\n",
      "updated_by          1.0\n",
      "created_at          0.0\n",
      "updated_at          0.0\n",
      "lat                 0.0\n",
      "lng                 0.0\n",
      "country             0.0\n",
      "state               0.0\n",
      "city                0.0\n",
      "district            0.0\n",
      "contact_fullname    1.0\n",
      "phone_number        1.0\n",
      "origin_id           0.0\n",
      "dtype: float64\n"
     ]
    }
   ],
   "source": [
    "print(properties.isnull().mean())"
   ]
  },
  {
   "cell_type": "code",
   "execution_count": null,
   "id": "a1bad2cd-de11-402b-9c0a-5072144b75a6",
   "metadata": {},
   "outputs": [
    {
     "name": "stdout",
     "output_type": "stream",
     "text": [
      "id                    int64\n",
      "title                object\n",
      "description          object\n",
      "price                 int64\n",
      "price_display        object\n",
      "locations           float64\n",
      "property_details     object\n",
      "image                object\n",
      "contact             float64\n",
      "maps                 object\n",
      "status               object\n",
      "published_at         object\n",
      "created_by          float64\n",
      "updated_by          float64\n",
      "created_at           object\n",
      "updated_at           object\n",
      "lat                 float64\n",
      "lng                 float64\n",
      "country              object\n",
      "state                object\n",
      "city                 object\n",
      "district             object\n",
      "contact_fullname    float64\n",
      "phone_number        float64\n",
      "origin_id             int64\n",
      "dtype: object\n"
     ]
    }
   ],
   "source": [
    "print(properties.dtypes)"
   ]
  },
  {
   "cell_type": "code",
   "execution_count": null,
   "id": "10a80c2b-19d7-4d6c-bc90-a8d29f6bb6b9",
   "metadata": {},
   "outputs": [
    {
     "name": "stdout",
     "output_type": "stream",
     "text": [
      "                                                  title        price  \\\n",
      "0     Rumah Minimalis Berkonsep Villa di Areal Elite...   1080000000   \n",
      "1           Rumah Baru Lantai.2 Siap huni Jimbaran Bali    875000000   \n",
      "2                     TANAH 425 M2 BONUS KOSAN 10 KAMAR   3000000000   \n",
      "3       Dijual Tanah Kavling Di Blahbatuh, Gianyar Bali   3650000000   \n",
      "4               VILLA MEWAH VIEW LAUT LOKASI SANUR BALI  11985000000   \n",
      "...                                                 ...          ...   \n",
      "1782        BUC 20 Are Murah Padang Linjong Canggu Bali    750000000   \n",
      "1783             Jual guest house  di tibubeneng Canggu   7000000000   \n",
      "1784  Dijual tanah murah di Green Lot Canggu. LT 843...    550000000   \n",
      "1785        Dijual Tanah Kuwum Ancak Marga Tabanan Bali   3371400000   \n",
      "1786    WOW 1,8 Are Beranda Bukit Goa Gong Ungasan Bali    250000000   \n",
      "\n",
      "                                       property_details  status  \n",
      "0     [{\"type\":\"single\",\"key\":\"type\",\"value_name\":\"R...  active  \n",
      "1     [{\"type\":\"single\",\"key\":\"p_sqr_building\",\"valu...  active  \n",
      "2     [{\"type\":\"single\",\"key\":\"type\",\"value_name\":\"R...  active  \n",
      "3     [{\"type\":\"single\",\"key\":\"type\",\"value_name\":\"\"...  active  \n",
      "4     [{\"type\":\"single\",\"key\":\"type\",\"value_name\":\"R...  active  \n",
      "...                                                 ...     ...  \n",
      "1782  [{\"type\":\"single\",\"key\":\"type\",\"value_name\":\"D...  active  \n",
      "1783  [{\"type\":\"single\",\"key\":\"type\",\"value_name\":\"R...  active  \n",
      "1784  [{\"type\":\"single\",\"key\":\"type\",\"value_name\":\"D...  active  \n",
      "1785  [{\"type\":\"single\",\"key\":\"type\",\"value_name\":\"\"...  active  \n",
      "1786  [{\"type\":\"single\",\"key\":\"type\",\"value_name\":\"D...  active  \n",
      "\n",
      "[1787 rows x 4 columns]\n"
     ]
    }
   ],
   "source": [
    "df1= properties[['title', 'price', 'property_details','status']]\n",
    "print(df1)"
   ]
  },
  {
   "cell_type": "code",
   "execution_count": 260,
   "id": "0629c993-4edf-4e78-98c1-6d23da448d4f",
   "metadata": {
    "tags": []
   },
   "outputs": [
    {
     "name": "stdout",
     "output_type": "stream",
     "text": [
      "Value:  Rumah\n",
      "==========\n",
      "ID : 1951\n",
      "Title:  Rumah Minimalis Berkonsep Villa di Areal Elite Mumbul Nusa Dua\n",
      "Price: 1080000000\n",
      "Status: active\n",
      "Value:  72\n",
      "==========\n",
      "ID : 1951\n",
      "Title:  Rumah Minimalis Berkonsep Villa di Areal Elite Mumbul Nusa Dua\n",
      "Price: 1080000000\n",
      "Status: active\n",
      "Value:  120\n",
      "==========\n",
      "ID : 1951\n",
      "Title:  Rumah Minimalis Berkonsep Villa di Areal Elite Mumbul Nusa Dua\n",
      "Price: 1080000000\n",
      "Status: active\n",
      "Value:  2\n",
      "==========\n",
      "ID : 1951\n",
      "Title:  Rumah Minimalis Berkonsep Villa di Areal Elite Mumbul Nusa Dua\n",
      "Price: 1080000000\n",
      "Status: active\n",
      "Value:  1\n",
      "==========\n",
      "ID : 1951\n",
      "Title:  Rumah Minimalis Berkonsep Villa di Areal Elite Mumbul Nusa Dua\n",
      "Price: 1080000000\n",
      "Status: active\n"
     ]
    },
    {
     "ename": "KeyError",
     "evalue": "'formatted_value'",
     "output_type": "error",
     "traceback": [
      "\u001b[0;31m---------------------------------------------------------------------------\u001b[0m",
      "\u001b[0;31mKeyError\u001b[0m                                  Traceback (most recent call last)",
      "Cell \u001b[0;32mIn[260], line 7\u001b[0m\n\u001b[1;32m      5\u001b[0m details \u001b[38;5;241m=\u001b[39m item[\u001b[38;5;124m'\u001b[39m\u001b[38;5;124mproperty_details\u001b[39m\u001b[38;5;124m'\u001b[39m]\n\u001b[1;32m      6\u001b[0m \u001b[38;5;28;01mfor\u001b[39;00m \u001b[38;5;28mtype\u001b[39m \u001b[38;5;129;01min\u001b[39;00m details: \n\u001b[0;32m----> 7\u001b[0m         \u001b[38;5;28mprint\u001b[39m(\u001b[38;5;124m\"\u001b[39m\u001b[38;5;124mValue: \u001b[39m\u001b[38;5;124m\"\u001b[39m,\u001b[38;5;28;43mtype\u001b[39;49m\u001b[43m[\u001b[49m\u001b[38;5;124;43m'\u001b[39;49m\u001b[38;5;124;43mformatted_value\u001b[39;49m\u001b[38;5;124;43m'\u001b[39;49m\u001b[43m]\u001b[49m)\n\u001b[1;32m      8\u001b[0m         \u001b[38;5;28mprint\u001b[39m(\u001b[38;5;124m\"\u001b[39m\u001b[38;5;124m==========\u001b[39m\u001b[38;5;124m\"\u001b[39m)\n\u001b[1;32m      9\u001b[0m         \u001b[38;5;28mprint\u001b[39m(\u001b[38;5;124m\"\u001b[39m\u001b[38;5;124mID :\u001b[39m\u001b[38;5;124m\"\u001b[39m, item[\u001b[38;5;124m'\u001b[39m\u001b[38;5;124mid\u001b[39m\u001b[38;5;124m'\u001b[39m])\n",
      "\u001b[0;31mKeyError\u001b[0m: 'formatted_value'"
     ]
    }
   ],
   "source": [
    "import requests\n",
    "req = requests.get('http://ml.cakeplabs.com:1891/api/properties')\n",
    "response = req.json()\n",
    "for item in response:\n",
    "    details = item['property_details']\n",
    "    for type in details: \n",
    "            print(\"Value: \",type['formatted_value'])\n",
    "            print(\"==========\")\n",
    "            print(\"ID :\", item['id'])\n",
    "            print(\"Title: \", item['title'])\n",
    "            print(\"Price:\", item['price'])\n",
    "            print(\"Status:\", item['status'])"
   ]
  }
 ],
 "metadata": {
  "kernelspec": {
   "display_name": "Python 3 (ipykernel)",
   "language": "python",
   "name": "python3"
  },
  "language_info": {
   "codemirror_mode": {
    "name": "ipython",
    "version": 3
   },
   "file_extension": ".py",
   "mimetype": "text/x-python",
   "name": "python",
   "nbconvert_exporter": "python",
   "pygments_lexer": "ipython3",
   "version": "3.10.9"
  }
 },
 "nbformat": 4,
 "nbformat_minor": 5
}
